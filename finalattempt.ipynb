{
 "cells": [
  {
   "cell_type": "code",
   "execution_count": 1,
   "id": "a4e27f86",
   "metadata": {
    "collapsed": false,
    "execution": {
     "iopub.execute_input": "2022-08-31T14:40:24.445555Z",
     "iopub.status.busy": "2022-08-31T14:40:24.445047Z",
     "iopub.status.idle": "2022-08-31T14:40:25.824971Z",
     "shell.execute_reply": "2022-08-31T14:40:25.823275Z"
    },
    "jupyter": {
     "outputs_hidden": false
    },
    "papermill": {
     "duration": 1.395989,
     "end_time": "2022-08-31T14:40:25.828578",
     "exception": false,
     "start_time": "2022-08-31T14:40:24.432589",
     "status": "completed"
    },
    "pycharm": {
     "name": "#%%\n"
    },
    "tags": []
   },
   "outputs": [],
   "source": [
    "import numpy as np\n",
    "import pandas as pd\n",
    "import matplotlib.pyplot as plt\n",
    "import seaborn as sns\n",
    "import scipy as scp"
   ]
  },
  {
   "cell_type": "code",
   "execution_count": 2,
   "id": "14e54dad",
   "metadata": {
    "collapsed": false,
    "execution": {
     "iopub.execute_input": "2022-08-31T14:40:25.847889Z",
     "iopub.status.busy": "2022-08-31T14:40:25.847286Z",
     "iopub.status.idle": "2022-08-31T14:40:25.901203Z",
     "shell.execute_reply": "2022-08-31T14:40:25.899531Z"
    },
    "jupyter": {
     "outputs_hidden": false
    },
    "papermill": {
     "duration": 0.066681,
     "end_time": "2022-08-31T14:40:25.904169",
     "exception": false,
     "start_time": "2022-08-31T14:40:25.837488",
     "status": "completed"
    },
    "pycharm": {
     "name": "#%%\n"
    },
    "tags": []
   },
   "outputs": [
    {
     "data": {
      "text/plain": [
       "(3796, 43)"
      ]
     },
     "execution_count": 2,
     "metadata": {},
     "output_type": "execute_result"
    }
   ],
   "source": [
    "dataset = pd.read_csv('/kaggle/input/students-drop-out-prediction/train.csv')\n",
    "dataset.shape"
   ]
  },
  {
   "cell_type": "code",
   "execution_count": 3,
   "id": "aea91334",
   "metadata": {
    "collapsed": false,
    "execution": {
     "iopub.execute_input": "2022-08-31T14:40:25.923559Z",
     "iopub.status.busy": "2022-08-31T14:40:25.922902Z",
     "iopub.status.idle": "2022-08-31T14:40:25.944667Z",
     "shell.execute_reply": "2022-08-31T14:40:25.942443Z"
    },
    "jupyter": {
     "outputs_hidden": false
    },
    "papermill": {
     "duration": 0.034994,
     "end_time": "2022-08-31T14:40:25.947959",
     "exception": false,
     "start_time": "2022-08-31T14:40:25.912965",
     "status": "completed"
    },
    "pycharm": {
     "name": "#%%\n"
    },
    "tags": []
   },
   "outputs": [
    {
     "data": {
      "text/plain": [
       "((3796, 42), (3796,))"
      ]
     },
     "execution_count": 3,
     "metadata": {},
     "output_type": "execute_result"
    }
   ],
   "source": [
    "X = dataset[dataset.columns[:-1]]\n",
    "y = dataset[dataset.columns[-1]]\n",
    "X.shape, y.shape"
   ]
  },
  {
   "cell_type": "code",
   "execution_count": 4,
   "id": "42a80957",
   "metadata": {
    "collapsed": false,
    "execution": {
     "iopub.execute_input": "2022-08-31T14:40:25.968882Z",
     "iopub.status.busy": "2022-08-31T14:40:25.967670Z",
     "iopub.status.idle": "2022-08-31T14:40:25.979528Z",
     "shell.execute_reply": "2022-08-31T14:40:25.978342Z"
    },
    "jupyter": {
     "outputs_hidden": false
    },
    "papermill": {
     "duration": 0.024837,
     "end_time": "2022-08-31T14:40:25.981978",
     "exception": false,
     "start_time": "2022-08-31T14:40:25.957141",
     "status": "completed"
    },
    "pycharm": {
     "name": "#%%\n"
    },
    "tags": []
   },
   "outputs": [
    {
     "data": {
      "text/plain": [
       "['id',\n",
       " 'v_1',\n",
       " 'v_11',\n",
       " 'v_14',\n",
       " 'v_26',\n",
       " 'v_27',\n",
       " 'v_28',\n",
       " 'v_30',\n",
       " 'v_9',\n",
       " 'v_12',\n",
       " 'v_18',\n",
       " 'v_20',\n",
       " 'v_21',\n",
       " 'v_25',\n",
       " 'v_3',\n",
       " 'v_32',\n",
       " 'v_4',\n",
       " 'v_0',\n",
       " 'v_10',\n",
       " 'v_13',\n",
       " 'v_15',\n",
       " 'v_17',\n",
       " 'v_19',\n",
       " 'v_22',\n",
       " 'v_23',\n",
       " 'v_24',\n",
       " 'v_29',\n",
       " 'v_31',\n",
       " 'v_33',\n",
       " 'v_5',\n",
       " 'v_6',\n",
       " 'v_16',\n",
       " 'v_2',\n",
       " 'v_34',\n",
       " 'v_35',\n",
       " 'v_36',\n",
       " 'v_37',\n",
       " 'v_38',\n",
       " 'v_39',\n",
       " 'v_40',\n",
       " 'v_7',\n",
       " 'v_8']"
      ]
     },
     "execution_count": 4,
     "metadata": {},
     "output_type": "execute_result"
    }
   ],
   "source": [
    "binary_list = ['v_1', 'v_26', 'v_11', 'v_14', 'v_30', 'v_28', 'v_9', 'v_27']\n",
    "nominal_list = ['v_32', 'v_4', 'v_3', 'v_20', 'v_21', 'v_18', 'v_25', 'v_12']\n",
    "ordinal_list = ['v_31', 'v_15', 'v_19', 'v_13', 'v_33', 'v_17', 'v_29', 'v_23', 'v_6', 'v_24', 'v_10', 'v_5', 'v_22', 'v_0']\n",
    "ratio_list = ['v_16', 'v_2', 'v_8', 'v_7', 'v_34', 'v_35', 'v_36', 'v_37', 'v_38', 'v_39', 'v_40']\n",
    "id_list = ['id']\n",
    "final_list = id_list + sorted(binary_list) + sorted(nominal_list) + sorted(ordinal_list) + sorted(ratio_list)\n",
    "final_list"
   ]
  },
  {
   "cell_type": "code",
   "execution_count": 5,
   "id": "8d9e6986",
   "metadata": {
    "collapsed": false,
    "execution": {
     "iopub.execute_input": "2022-08-31T14:40:26.001436Z",
     "iopub.status.busy": "2022-08-31T14:40:26.001039Z",
     "iopub.status.idle": "2022-08-31T14:40:26.030036Z",
     "shell.execute_reply": "2022-08-31T14:40:26.029062Z"
    },
    "jupyter": {
     "outputs_hidden": false
    },
    "papermill": {
     "duration": 0.041861,
     "end_time": "2022-08-31T14:40:26.032450",
     "exception": false,
     "start_time": "2022-08-31T14:40:25.990589",
     "status": "completed"
    },
    "pycharm": {
     "name": "#%%\n"
    },
    "tags": []
   },
   "outputs": [
    {
     "data": {
      "text/html": [
       "<div>\n",
       "<style scoped>\n",
       "    .dataframe tbody tr th:only-of-type {\n",
       "        vertical-align: middle;\n",
       "    }\n",
       "\n",
       "    .dataframe tbody tr th {\n",
       "        vertical-align: top;\n",
       "    }\n",
       "\n",
       "    .dataframe thead th {\n",
       "        text-align: right;\n",
       "    }\n",
       "</style>\n",
       "<table border=\"1\" class=\"dataframe\">\n",
       "  <thead>\n",
       "    <tr style=\"text-align: right;\">\n",
       "      <th></th>\n",
       "      <th>id</th>\n",
       "      <th>v_1</th>\n",
       "      <th>v_11</th>\n",
       "      <th>v_14</th>\n",
       "      <th>v_26</th>\n",
       "      <th>v_27</th>\n",
       "      <th>v_28</th>\n",
       "      <th>v_30</th>\n",
       "      <th>v_9</th>\n",
       "      <th>v_12</th>\n",
       "      <th>...</th>\n",
       "      <th>v_2</th>\n",
       "      <th>v_34</th>\n",
       "      <th>v_35</th>\n",
       "      <th>v_36</th>\n",
       "      <th>v_37</th>\n",
       "      <th>v_38</th>\n",
       "      <th>v_39</th>\n",
       "      <th>v_40</th>\n",
       "      <th>v_7</th>\n",
       "      <th>v_8</th>\n",
       "    </tr>\n",
       "  </thead>\n",
       "  <tbody>\n",
       "    <tr>\n",
       "      <th>0</th>\n",
       "      <td>0</td>\n",
       "      <td>1</td>\n",
       "      <td>1</td>\n",
       "      <td>0</td>\n",
       "      <td>0</td>\n",
       "      <td>1</td>\n",
       "      <td>0</td>\n",
       "      <td>0</td>\n",
       "      <td>0</td>\n",
       "      <td>16</td>\n",
       "      <td>...</td>\n",
       "      <td>-0.3</td>\n",
       "      <td>1</td>\n",
       "      <td>93</td>\n",
       "      <td>47</td>\n",
       "      <td>1</td>\n",
       "      <td>48</td>\n",
       "      <td>26</td>\n",
       "      <td>0</td>\n",
       "      <td>13.9</td>\n",
       "      <td>1</td>\n",
       "    </tr>\n",
       "    <tr>\n",
       "      <th>1</th>\n",
       "      <td>1</td>\n",
       "      <td>1</td>\n",
       "      <td>0</td>\n",
       "      <td>1</td>\n",
       "      <td>1</td>\n",
       "      <td>0</td>\n",
       "      <td>0</td>\n",
       "      <td>1</td>\n",
       "      <td>1</td>\n",
       "      <td>22</td>\n",
       "      <td>...</td>\n",
       "      <td>5.4</td>\n",
       "      <td>6</td>\n",
       "      <td>29</td>\n",
       "      <td>37</td>\n",
       "      <td>25</td>\n",
       "      <td>53</td>\n",
       "      <td>35</td>\n",
       "      <td>7</td>\n",
       "      <td>14.9</td>\n",
       "      <td>4</td>\n",
       "    </tr>\n",
       "    <tr>\n",
       "      <th>2</th>\n",
       "      <td>2</td>\n",
       "      <td>1</td>\n",
       "      <td>1</td>\n",
       "      <td>0</td>\n",
       "      <td>0</td>\n",
       "      <td>1</td>\n",
       "      <td>0</td>\n",
       "      <td>1</td>\n",
       "      <td>0</td>\n",
       "      <td>16</td>\n",
       "      <td>...</td>\n",
       "      <td>0.6</td>\n",
       "      <td>1</td>\n",
       "      <td>8</td>\n",
       "      <td>34</td>\n",
       "      <td>4</td>\n",
       "      <td>43</td>\n",
       "      <td>38</td>\n",
       "      <td>2</td>\n",
       "      <td>11.1</td>\n",
       "      <td>1</td>\n",
       "    </tr>\n",
       "    <tr>\n",
       "      <th>3</th>\n",
       "      <td>3</td>\n",
       "      <td>1</td>\n",
       "      <td>1</td>\n",
       "      <td>0</td>\n",
       "      <td>0</td>\n",
       "      <td>1</td>\n",
       "      <td>0</td>\n",
       "      <td>0</td>\n",
       "      <td>1</td>\n",
       "      <td>16</td>\n",
       "      <td>...</td>\n",
       "      <td>0.6</td>\n",
       "      <td>7</td>\n",
       "      <td>37</td>\n",
       "      <td>40</td>\n",
       "      <td>27</td>\n",
       "      <td>43</td>\n",
       "      <td>65</td>\n",
       "      <td>0</td>\n",
       "      <td>11.1</td>\n",
       "      <td>1</td>\n",
       "    </tr>\n",
       "    <tr>\n",
       "      <th>4</th>\n",
       "      <td>4</td>\n",
       "      <td>1</td>\n",
       "      <td>0</td>\n",
       "      <td>0</td>\n",
       "      <td>1</td>\n",
       "      <td>0</td>\n",
       "      <td>0</td>\n",
       "      <td>1</td>\n",
       "      <td>1</td>\n",
       "      <td>22</td>\n",
       "      <td>...</td>\n",
       "      <td>8.4</td>\n",
       "      <td>16</td>\n",
       "      <td>22</td>\n",
       "      <td>25</td>\n",
       "      <td>25</td>\n",
       "      <td>24</td>\n",
       "      <td>23</td>\n",
       "      <td>1</td>\n",
       "      <td>10.9</td>\n",
       "      <td>17</td>\n",
       "    </tr>\n",
       "  </tbody>\n",
       "</table>\n",
       "<p>5 rows × 42 columns</p>\n",
       "</div>"
      ],
      "text/plain": [
       "   id  v_1  v_11  v_14  v_26  v_27  v_28  v_30  v_9  v_12  ...  v_2  v_34  \\\n",
       "0   0    1     1     0     0     1     0     0    0    16  ... -0.3     1   \n",
       "1   1    1     0     1     1     0     0     1    1    22  ...  5.4     6   \n",
       "2   2    1     1     0     0     1     0     1    0    16  ...  0.6     1   \n",
       "3   3    1     1     0     0     1     0     0    1    16  ...  0.6     7   \n",
       "4   4    1     0     0     1     0     0     1    1    22  ...  8.4    16   \n",
       "\n",
       "   v_35  v_36  v_37  v_38  v_39  v_40   v_7  v_8  \n",
       "0    93    47     1    48    26     0  13.9    1  \n",
       "1    29    37    25    53    35     7  14.9    4  \n",
       "2     8    34     4    43    38     2  11.1    1  \n",
       "3    37    40    27    43    65     0  11.1    1  \n",
       "4    22    25    25    24    23     1  10.9   17  \n",
       "\n",
       "[5 rows x 42 columns]"
      ]
     },
     "execution_count": 5,
     "metadata": {},
     "output_type": "execute_result"
    }
   ],
   "source": [
    "X_transformed = X[final_list]\n",
    "X_transformed.head()"
   ]
  },
  {
   "cell_type": "code",
   "execution_count": 6,
   "id": "9baf2595",
   "metadata": {
    "collapsed": false,
    "execution": {
     "iopub.execute_input": "2022-08-31T14:40:26.054874Z",
     "iopub.status.busy": "2022-08-31T14:40:26.054423Z",
     "iopub.status.idle": "2022-08-31T14:40:26.062554Z",
     "shell.execute_reply": "2022-08-31T14:40:26.061049Z"
    },
    "jupyter": {
     "outputs_hidden": false
    },
    "papermill": {
     "duration": 0.022826,
     "end_time": "2022-08-31T14:40:26.065402",
     "exception": false,
     "start_time": "2022-08-31T14:40:26.042576",
     "status": "completed"
    },
    "pycharm": {
     "name": "#%%\n"
    },
    "tags": []
   },
   "outputs": [],
   "source": [
    "X_transformed = X_transformed.drop(columns='id')"
   ]
  },
  {
   "cell_type": "code",
   "execution_count": 7,
   "id": "b618bc4d",
   "metadata": {
    "collapsed": false,
    "execution": {
     "iopub.execute_input": "2022-08-31T14:40:26.086390Z",
     "iopub.status.busy": "2022-08-31T14:40:26.085959Z",
     "iopub.status.idle": "2022-08-31T14:40:26.110995Z",
     "shell.execute_reply": "2022-08-31T14:40:26.109775Z"
    },
    "jupyter": {
     "outputs_hidden": false
    },
    "papermill": {
     "duration": 0.03846,
     "end_time": "2022-08-31T14:40:26.113542",
     "exception": false,
     "start_time": "2022-08-31T14:40:26.075082",
     "status": "completed"
    },
    "pycharm": {
     "name": "#%%\n"
    },
    "tags": []
   },
   "outputs": [
    {
     "data": {
      "text/html": [
       "<div>\n",
       "<style scoped>\n",
       "    .dataframe tbody tr th:only-of-type {\n",
       "        vertical-align: middle;\n",
       "    }\n",
       "\n",
       "    .dataframe tbody tr th {\n",
       "        vertical-align: top;\n",
       "    }\n",
       "\n",
       "    .dataframe thead th {\n",
       "        text-align: right;\n",
       "    }\n",
       "</style>\n",
       "<table border=\"1\" class=\"dataframe\">\n",
       "  <thead>\n",
       "    <tr style=\"text-align: right;\">\n",
       "      <th></th>\n",
       "      <th>v_1</th>\n",
       "      <th>v_11</th>\n",
       "      <th>v_14</th>\n",
       "      <th>v_26</th>\n",
       "      <th>v_27</th>\n",
       "      <th>v_28</th>\n",
       "      <th>v_30</th>\n",
       "      <th>v_9</th>\n",
       "      <th>v_12</th>\n",
       "      <th>v_18</th>\n",
       "      <th>...</th>\n",
       "      <th>v_2</th>\n",
       "      <th>v_34</th>\n",
       "      <th>v_35</th>\n",
       "      <th>v_36</th>\n",
       "      <th>v_37</th>\n",
       "      <th>v_38</th>\n",
       "      <th>v_39</th>\n",
       "      <th>v_40</th>\n",
       "      <th>v_7</th>\n",
       "      <th>v_8</th>\n",
       "    </tr>\n",
       "  </thead>\n",
       "  <tbody>\n",
       "    <tr>\n",
       "      <th>0</th>\n",
       "      <td>1</td>\n",
       "      <td>1</td>\n",
       "      <td>0</td>\n",
       "      <td>0</td>\n",
       "      <td>1</td>\n",
       "      <td>0</td>\n",
       "      <td>0</td>\n",
       "      <td>0</td>\n",
       "      <td>16</td>\n",
       "      <td>30</td>\n",
       "      <td>...</td>\n",
       "      <td>-0.3</td>\n",
       "      <td>1</td>\n",
       "      <td>93</td>\n",
       "      <td>47</td>\n",
       "      <td>1</td>\n",
       "      <td>48</td>\n",
       "      <td>26</td>\n",
       "      <td>0</td>\n",
       "      <td>13.9</td>\n",
       "      <td>1</td>\n",
       "    </tr>\n",
       "    <tr>\n",
       "      <th>1</th>\n",
       "      <td>1</td>\n",
       "      <td>0</td>\n",
       "      <td>1</td>\n",
       "      <td>1</td>\n",
       "      <td>0</td>\n",
       "      <td>0</td>\n",
       "      <td>1</td>\n",
       "      <td>1</td>\n",
       "      <td>22</td>\n",
       "      <td>199</td>\n",
       "      <td>...</td>\n",
       "      <td>5.4</td>\n",
       "      <td>6</td>\n",
       "      <td>29</td>\n",
       "      <td>37</td>\n",
       "      <td>25</td>\n",
       "      <td>53</td>\n",
       "      <td>35</td>\n",
       "      <td>7</td>\n",
       "      <td>14.9</td>\n",
       "      <td>4</td>\n",
       "    </tr>\n",
       "    <tr>\n",
       "      <th>2</th>\n",
       "      <td>1</td>\n",
       "      <td>1</td>\n",
       "      <td>0</td>\n",
       "      <td>0</td>\n",
       "      <td>1</td>\n",
       "      <td>0</td>\n",
       "      <td>1</td>\n",
       "      <td>0</td>\n",
       "      <td>16</td>\n",
       "      <td>30</td>\n",
       "      <td>...</td>\n",
       "      <td>0.6</td>\n",
       "      <td>1</td>\n",
       "      <td>8</td>\n",
       "      <td>34</td>\n",
       "      <td>4</td>\n",
       "      <td>43</td>\n",
       "      <td>38</td>\n",
       "      <td>2</td>\n",
       "      <td>11.1</td>\n",
       "      <td>1</td>\n",
       "    </tr>\n",
       "    <tr>\n",
       "      <th>3</th>\n",
       "      <td>1</td>\n",
       "      <td>1</td>\n",
       "      <td>0</td>\n",
       "      <td>0</td>\n",
       "      <td>1</td>\n",
       "      <td>0</td>\n",
       "      <td>0</td>\n",
       "      <td>1</td>\n",
       "      <td>16</td>\n",
       "      <td>23</td>\n",
       "      <td>...</td>\n",
       "      <td>0.6</td>\n",
       "      <td>7</td>\n",
       "      <td>37</td>\n",
       "      <td>40</td>\n",
       "      <td>27</td>\n",
       "      <td>43</td>\n",
       "      <td>65</td>\n",
       "      <td>0</td>\n",
       "      <td>11.1</td>\n",
       "      <td>1</td>\n",
       "    </tr>\n",
       "    <tr>\n",
       "      <th>4</th>\n",
       "      <td>1</td>\n",
       "      <td>0</td>\n",
       "      <td>0</td>\n",
       "      <td>1</td>\n",
       "      <td>0</td>\n",
       "      <td>0</td>\n",
       "      <td>1</td>\n",
       "      <td>1</td>\n",
       "      <td>22</td>\n",
       "      <td>106</td>\n",
       "      <td>...</td>\n",
       "      <td>8.4</td>\n",
       "      <td>16</td>\n",
       "      <td>22</td>\n",
       "      <td>25</td>\n",
       "      <td>25</td>\n",
       "      <td>24</td>\n",
       "      <td>23</td>\n",
       "      <td>1</td>\n",
       "      <td>10.9</td>\n",
       "      <td>17</td>\n",
       "    </tr>\n",
       "  </tbody>\n",
       "</table>\n",
       "<p>5 rows × 41 columns</p>\n",
       "</div>"
      ],
      "text/plain": [
       "   v_1  v_11  v_14  v_26  v_27  v_28  v_30  v_9  v_12  v_18  ...  v_2  v_34  \\\n",
       "0    1     1     0     0     1     0     0    0    16    30  ... -0.3     1   \n",
       "1    1     0     1     1     0     0     1    1    22   199  ...  5.4     6   \n",
       "2    1     1     0     0     1     0     1    0    16    30  ...  0.6     1   \n",
       "3    1     1     0     0     1     0     0    1    16    23  ...  0.6     7   \n",
       "4    1     0     0     1     0     0     1    1    22   106  ...  8.4    16   \n",
       "\n",
       "   v_35  v_36  v_37  v_38  v_39  v_40   v_7  v_8  \n",
       "0    93    47     1    48    26     0  13.9    1  \n",
       "1    29    37    25    53    35     7  14.9    4  \n",
       "2     8    34     4    43    38     2  11.1    1  \n",
       "3    37    40    27    43    65     0  11.1    1  \n",
       "4    22    25    25    24    23     1  10.9   17  \n",
       "\n",
       "[5 rows x 41 columns]"
      ]
     },
     "execution_count": 7,
     "metadata": {},
     "output_type": "execute_result"
    }
   ],
   "source": [
    "X_transformed.head()"
   ]
  },
  {
   "cell_type": "code",
   "execution_count": 8,
   "id": "528dbb71",
   "metadata": {
    "collapsed": false,
    "execution": {
     "iopub.execute_input": "2022-08-31T14:40:26.137200Z",
     "iopub.status.busy": "2022-08-31T14:40:26.136734Z",
     "iopub.status.idle": "2022-08-31T14:40:26.147142Z",
     "shell.execute_reply": "2022-08-31T14:40:26.146027Z"
    },
    "jupyter": {
     "outputs_hidden": false
    },
    "papermill": {
     "duration": 0.025212,
     "end_time": "2022-08-31T14:40:26.150342",
     "exception": false,
     "start_time": "2022-08-31T14:40:26.125130",
     "status": "completed"
    },
    "pycharm": {
     "name": "#%%\n"
    },
    "tags": []
   },
   "outputs": [
    {
     "data": {
      "text/plain": [
       "(1243, 1863, 690)"
      ]
     },
     "execution_count": 8,
     "metadata": {},
     "output_type": "execute_result"
    }
   ],
   "source": [
    "count0 = 0\n",
    "count1 = 0\n",
    "count2 = 0\n",
    "for i in y:\n",
    "    if i == 0:\n",
    "        count0+=1\n",
    "    if i == 1:\n",
    "        count1+=1\n",
    "    if i == 2:\n",
    "        count2+=1\n",
    "count0, count1, count2"
   ]
  },
  {
   "cell_type": "code",
   "execution_count": 9,
   "id": "2c044916",
   "metadata": {
    "collapsed": false,
    "execution": {
     "iopub.execute_input": "2022-08-31T14:40:26.172268Z",
     "iopub.status.busy": "2022-08-31T14:40:26.171765Z",
     "iopub.status.idle": "2022-08-31T14:40:26.725643Z",
     "shell.execute_reply": "2022-08-31T14:40:26.724062Z"
    },
    "jupyter": {
     "outputs_hidden": false
    },
    "papermill": {
     "duration": 0.568915,
     "end_time": "2022-08-31T14:40:26.728707",
     "exception": false,
     "start_time": "2022-08-31T14:40:26.159792",
     "status": "completed"
    },
    "pycharm": {
     "name": "#%%\n"
    },
    "tags": []
   },
   "outputs": [],
   "source": [
    "from sklearn.ensemble import RandomForestClassifier\n",
    "from sklearn.model_selection import cross_val_score"
   ]
  },
  {
   "cell_type": "code",
   "execution_count": 10,
   "id": "b290dac9",
   "metadata": {
    "collapsed": false,
    "execution": {
     "iopub.execute_input": "2022-08-31T14:40:26.750323Z",
     "iopub.status.busy": "2022-08-31T14:40:26.749427Z",
     "iopub.status.idle": "2022-08-31T14:40:26.758456Z",
     "shell.execute_reply": "2022-08-31T14:40:26.756954Z"
    },
    "jupyter": {
     "outputs_hidden": false
    },
    "papermill": {
     "duration": 0.022595,
     "end_time": "2022-08-31T14:40:26.761146",
     "exception": false,
     "start_time": "2022-08-31T14:40:26.738551",
     "status": "completed"
    },
    "pycharm": {
     "name": "#%%\n"
    },
    "tags": []
   },
   "outputs": [
    {
     "data": {
      "text/plain": [
       "'from sklearn.feature_selection import SelectFpr\\ns_fpr_ss = SelectFpr(alpha=0.075)\\ns_fpr_mm = SelectFpr(alpha=0.075)\\nX_train_ss = s_fpr_ss.fit_transform(X_transformed, y)\\nX_train_mm = s_fpr_mm.fit_transform(X_transformed, y)'"
      ]
     },
     "execution_count": 10,
     "metadata": {},
     "output_type": "execute_result"
    }
   ],
   "source": [
    "'''from sklearn.feature_selection import SelectFpr\n",
    "s_fpr_ss = SelectFpr(alpha=0.075)\n",
    "s_fpr_mm = SelectFpr(alpha=0.075)\n",
    "X_train_ss = s_fpr_ss.fit_transform(X_transformed, y)\n",
    "X_train_mm = s_fpr_mm.fit_transform(X_transformed, y)'''"
   ]
  },
  {
   "cell_type": "code",
   "execution_count": 11,
   "id": "fe514fb2",
   "metadata": {
    "collapsed": false,
    "execution": {
     "iopub.execute_input": "2022-08-31T14:40:26.782201Z",
     "iopub.status.busy": "2022-08-31T14:40:26.781768Z",
     "iopub.status.idle": "2022-08-31T14:40:30.528380Z",
     "shell.execute_reply": "2022-08-31T14:40:30.527085Z"
    },
    "jupyter": {
     "outputs_hidden": false
    },
    "papermill": {
     "duration": 3.760912,
     "end_time": "2022-08-31T14:40:30.531715",
     "exception": false,
     "start_time": "2022-08-31T14:40:26.770803",
     "status": "completed"
    },
    "pycharm": {
     "name": "#%%\n"
    },
    "tags": []
   },
   "outputs": [
    {
     "data": {
      "text/plain": [
       "array([0.74868421, 0.72990777, 0.72859025, 0.74176548, 0.73781291])"
      ]
     },
     "execution_count": 11,
     "metadata": {},
     "output_type": "execute_result"
    }
   ],
   "source": [
    "rfc = RandomForestClassifier(max_depth=30, min_samples_split=15, n_estimators=100, class_weight=None, random_state=25)\n",
    "cross_val_score(rfc, X_transformed, y, scoring='f1_micro', cv=5)"
   ]
  },
  {
   "cell_type": "code",
   "execution_count": 12,
   "id": "4153e965",
   "metadata": {
    "collapsed": false,
    "execution": {
     "iopub.execute_input": "2022-08-31T14:40:30.553945Z",
     "iopub.status.busy": "2022-08-31T14:40:30.553496Z",
     "iopub.status.idle": "2022-08-31T14:40:30.580602Z",
     "shell.execute_reply": "2022-08-31T14:40:30.579377Z"
    },
    "jupyter": {
     "outputs_hidden": false
    },
    "papermill": {
     "duration": 0.041881,
     "end_time": "2022-08-31T14:40:30.583643",
     "exception": false,
     "start_time": "2022-08-31T14:40:30.541762",
     "status": "completed"
    },
    "pycharm": {
     "name": "#%%\n"
    },
    "tags": []
   },
   "outputs": [],
   "source": [
    "from sklearn.feature_selection import SelectFpr\n",
    "s_fpr = SelectFpr(alpha=0.001)\n",
    "X_train = s_fpr.fit_transform(X_transformed, y)"
   ]
  },
  {
   "cell_type": "code",
   "execution_count": 13,
   "id": "ffc31d8d",
   "metadata": {
    "collapsed": false,
    "execution": {
     "iopub.execute_input": "2022-08-31T14:40:30.606604Z",
     "iopub.status.busy": "2022-08-31T14:40:30.606212Z",
     "iopub.status.idle": "2022-08-31T14:40:33.204131Z",
     "shell.execute_reply": "2022-08-31T14:40:33.202845Z"
    },
    "jupyter": {
     "outputs_hidden": false
    },
    "papermill": {
     "duration": 2.613129,
     "end_time": "2022-08-31T14:40:33.207038",
     "exception": false,
     "start_time": "2022-08-31T14:40:30.593909",
     "status": "completed"
    },
    "pycharm": {
     "name": "#%%\n"
    },
    "tags": []
   },
   "outputs": [
    {
     "data": {
      "text/plain": [
       "array([0.74210526, 0.74176548, 0.73386034, 0.74044796, 0.75757576])"
      ]
     },
     "execution_count": 13,
     "metadata": {},
     "output_type": "execute_result"
    }
   ],
   "source": [
    "rfc = RandomForestClassifier(max_depth=30, min_samples_split=15, n_estimators=100, class_weight=None, random_state=25)\n",
    "cross_val_score(rfc, X_train, y, scoring='f1_micro', cv=5)"
   ]
  },
  {
   "cell_type": "code",
   "execution_count": 14,
   "id": "0dd005a3",
   "metadata": {
    "collapsed": false,
    "execution": {
     "iopub.execute_input": "2022-08-31T14:40:33.229710Z",
     "iopub.status.busy": "2022-08-31T14:40:33.228241Z",
     "iopub.status.idle": "2022-08-31T14:40:35.822467Z",
     "shell.execute_reply": "2022-08-31T14:40:35.820663Z"
    },
    "jupyter": {
     "outputs_hidden": false
    },
    "papermill": {
     "duration": 2.608354,
     "end_time": "2022-08-31T14:40:35.825421",
     "exception": false,
     "start_time": "2022-08-31T14:40:33.217067",
     "status": "completed"
    },
    "pycharm": {
     "name": "#%%\n"
    },
    "tags": []
   },
   "outputs": [
    {
     "data": {
      "text/plain": [
       "array([0.74473684, 0.743083  , 0.73649539, 0.73913043, 0.75757576])"
      ]
     },
     "execution_count": 14,
     "metadata": {},
     "output_type": "execute_result"
    }
   ],
   "source": [
    "rfc = RandomForestClassifier(max_depth=20, min_samples_split=15, n_estimators=100, class_weight=None, random_state=25)\n",
    "cross_val_score(rfc, X_train, y, scoring='f1_micro', cv=5)"
   ]
  },
  {
   "cell_type": "code",
   "execution_count": 15,
   "id": "2fedb41d",
   "metadata": {
    "collapsed": false,
    "execution": {
     "iopub.execute_input": "2022-08-31T14:40:35.848547Z",
     "iopub.status.busy": "2022-08-31T14:40:35.847537Z",
     "iopub.status.idle": "2022-08-31T14:40:35.854970Z",
     "shell.execute_reply": "2022-08-31T14:40:35.853421Z"
    },
    "jupyter": {
     "outputs_hidden": false
    },
    "papermill": {
     "duration": 0.022388,
     "end_time": "2022-08-31T14:40:35.858061",
     "exception": false,
     "start_time": "2022-08-31T14:40:35.835673",
     "status": "completed"
    },
    "pycharm": {
     "name": "#%%\n"
    },
    "tags": []
   },
   "outputs": [
    {
     "data": {
      "text/plain": [
       "\"from sklearn.model_selection import GridSearchCV\\nrfc = RandomForestClassifier(random_state=25)\\nmodel_rfc = GridSearchCV(rfc, {'max_depth':[15,20,25,30], 'min_samples_split':[15,30,45,60], 'n_estimators':[100,200,300], 'class_weight':[None, 'balanced']}, cv=5)\\nmodel_rfc.fit(X_train, y)\""
      ]
     },
     "execution_count": 15,
     "metadata": {},
     "output_type": "execute_result"
    }
   ],
   "source": [
    "'''from sklearn.model_selection import GridSearchCV\n",
    "rfc = RandomForestClassifier(random_state=25)\n",
    "model_rfc = GridSearchCV(rfc, {'max_depth':[15,20,25,30], 'min_samples_split':[15,30,45,60], 'n_estimators':[100,200,300], 'class_weight':[None, 'balanced']}, cv=5)\n",
    "model_rfc.fit(X_train, y)'''"
   ]
  },
  {
   "cell_type": "code",
   "execution_count": 16,
   "id": "72ec0021",
   "metadata": {
    "collapsed": false,
    "execution": {
     "iopub.execute_input": "2022-08-31T14:40:35.881111Z",
     "iopub.status.busy": "2022-08-31T14:40:35.880198Z",
     "iopub.status.idle": "2022-08-31T14:40:35.887073Z",
     "shell.execute_reply": "2022-08-31T14:40:35.886128Z"
    },
    "jupyter": {
     "outputs_hidden": false
    },
    "papermill": {
     "duration": 0.021222,
     "end_time": "2022-08-31T14:40:35.889586",
     "exception": false,
     "start_time": "2022-08-31T14:40:35.868364",
     "status": "completed"
    },
    "pycharm": {
     "name": "#%%\n"
    },
    "tags": []
   },
   "outputs": [
    {
     "data": {
      "text/plain": [
       "'model_rfc.best_params_'"
      ]
     },
     "execution_count": 16,
     "metadata": {},
     "output_type": "execute_result"
    }
   ],
   "source": [
    "'''model_rfc.best_params_'''"
   ]
  },
  {
   "cell_type": "code",
   "execution_count": 17,
   "id": "ebdef29b",
   "metadata": {
    "execution": {
     "iopub.execute_input": "2022-08-31T14:40:35.912535Z",
     "iopub.status.busy": "2022-08-31T14:40:35.911873Z",
     "iopub.status.idle": "2022-08-31T14:40:35.919562Z",
     "shell.execute_reply": "2022-08-31T14:40:35.918357Z"
    },
    "papermill": {
     "duration": 0.022872,
     "end_time": "2022-08-31T14:40:35.923061",
     "exception": false,
     "start_time": "2022-08-31T14:40:35.900189",
     "status": "completed"
    },
    "tags": []
   },
   "outputs": [
    {
     "data": {
      "text/plain": [
       "\"from sklearn.neighbors import KNeighborsClassifier\\nknn = KNeighborsClassifier()\\nmodel_knn = GridSearchCV(knn, {'n_neighbors':list(range(3,51)), 'weights':['uniform','distance'], 'algorithm':['auto','ball_tree','kd_tree','brute']})\\nmodel_knn.fit(X_train, y)\""
      ]
     },
     "execution_count": 17,
     "metadata": {},
     "output_type": "execute_result"
    }
   ],
   "source": [
    "'''from sklearn.neighbors import KNeighborsClassifier\n",
    "knn = KNeighborsClassifier()\n",
    "model_knn = GridSearchCV(knn, {'n_neighbors':list(range(3,51)), 'weights':['uniform','distance'], 'algorithm':['auto','ball_tree','kd_tree','brute']})\n",
    "model_knn.fit(X_train, y)'''"
   ]
  },
  {
   "cell_type": "code",
   "execution_count": 18,
   "id": "bccea60d",
   "metadata": {
    "execution": {
     "iopub.execute_input": "2022-08-31T14:40:35.945475Z",
     "iopub.status.busy": "2022-08-31T14:40:35.945040Z",
     "iopub.status.idle": "2022-08-31T14:40:35.952269Z",
     "shell.execute_reply": "2022-08-31T14:40:35.951090Z"
    },
    "papermill": {
     "duration": 0.021717,
     "end_time": "2022-08-31T14:40:35.954885",
     "exception": false,
     "start_time": "2022-08-31T14:40:35.933168",
     "status": "completed"
    },
    "tags": []
   },
   "outputs": [
    {
     "data": {
      "text/plain": [
       "'model_knn.best_params_'"
      ]
     },
     "execution_count": 18,
     "metadata": {},
     "output_type": "execute_result"
    }
   ],
   "source": [
    "'''model_knn.best_params_'''"
   ]
  },
  {
   "cell_type": "code",
   "execution_count": 19,
   "id": "477e3db4",
   "metadata": {
    "execution": {
     "iopub.execute_input": "2022-08-31T14:40:35.977199Z",
     "iopub.status.busy": "2022-08-31T14:40:35.976441Z",
     "iopub.status.idle": "2022-08-31T14:40:38.548563Z",
     "shell.execute_reply": "2022-08-31T14:40:38.547134Z"
    },
    "papermill": {
     "duration": 2.586425,
     "end_time": "2022-08-31T14:40:38.551521",
     "exception": false,
     "start_time": "2022-08-31T14:40:35.965096",
     "status": "completed"
    },
    "tags": []
   },
   "outputs": [
    {
     "data": {
      "text/plain": [
       "array([0.74473684, 0.743083  , 0.73649539, 0.73913043, 0.75757576])"
      ]
     },
     "execution_count": 19,
     "metadata": {},
     "output_type": "execute_result"
    }
   ],
   "source": [
    "rfc = RandomForestClassifier(max_depth=20, min_samples_split=15, n_estimators=100, random_state=25)\n",
    "cross_val_score(rfc, X_train, y, scoring='f1_micro', cv=5)"
   ]
  },
  {
   "cell_type": "code",
   "execution_count": 20,
   "id": "b556d3dc",
   "metadata": {
    "execution": {
     "iopub.execute_input": "2022-08-31T14:40:38.574836Z",
     "iopub.status.busy": "2022-08-31T14:40:38.574400Z",
     "iopub.status.idle": "2022-08-31T14:40:38.718482Z",
     "shell.execute_reply": "2022-08-31T14:40:38.716914Z"
    },
    "papermill": {
     "duration": 0.15984,
     "end_time": "2022-08-31T14:40:38.722209",
     "exception": false,
     "start_time": "2022-08-31T14:40:38.562369",
     "status": "completed"
    },
    "tags": []
   },
   "outputs": [
    {
     "data": {
      "text/plain": [
       "array([0.62105263, 0.62582345, 0.62582345, 0.63636364, 0.62318841])"
      ]
     },
     "execution_count": 20,
     "metadata": {},
     "output_type": "execute_result"
    }
   ],
   "source": [
    "from sklearn.neighbors import KNeighborsClassifier\n",
    "knn = KNeighborsClassifier(algorithm='kd_tree', n_neighbors=8, weights='distance')\n",
    "cross_val_score(knn, X_train, y, scoring='f1_micro', cv=5)"
   ]
  },
  {
   "cell_type": "code",
   "execution_count": 21,
   "id": "e8ad0e24",
   "metadata": {
    "execution": {
     "iopub.execute_input": "2022-08-31T14:40:38.746354Z",
     "iopub.status.busy": "2022-08-31T14:40:38.745818Z",
     "iopub.status.idle": "2022-08-31T14:40:38.782740Z",
     "shell.execute_reply": "2022-08-31T14:40:38.781286Z"
    },
    "papermill": {
     "duration": 0.052602,
     "end_time": "2022-08-31T14:40:38.785541",
     "exception": false,
     "start_time": "2022-08-31T14:40:38.732939",
     "status": "completed"
    },
    "tags": []
   },
   "outputs": [
    {
     "data": {
      "text/plain": [
       "(1628, 42)"
      ]
     },
     "execution_count": 21,
     "metadata": {},
     "output_type": "execute_result"
    }
   ],
   "source": [
    "dataset = pd.read_csv('/kaggle/input/students-drop-out-prediction/test.csv')\n",
    "dataset.shape"
   ]
  },
  {
   "cell_type": "code",
   "execution_count": 22,
   "id": "fa8cbf3a",
   "metadata": {
    "execution": {
     "iopub.execute_input": "2022-08-31T14:40:38.808720Z",
     "iopub.status.busy": "2022-08-31T14:40:38.808268Z",
     "iopub.status.idle": "2022-08-31T14:40:38.837201Z",
     "shell.execute_reply": "2022-08-31T14:40:38.835710Z"
    },
    "papermill": {
     "duration": 0.044025,
     "end_time": "2022-08-31T14:40:38.840203",
     "exception": false,
     "start_time": "2022-08-31T14:40:38.796178",
     "status": "completed"
    },
    "tags": []
   },
   "outputs": [
    {
     "data": {
      "text/html": [
       "<div>\n",
       "<style scoped>\n",
       "    .dataframe tbody tr th:only-of-type {\n",
       "        vertical-align: middle;\n",
       "    }\n",
       "\n",
       "    .dataframe tbody tr th {\n",
       "        vertical-align: top;\n",
       "    }\n",
       "\n",
       "    .dataframe thead th {\n",
       "        text-align: right;\n",
       "    }\n",
       "</style>\n",
       "<table border=\"1\" class=\"dataframe\">\n",
       "  <thead>\n",
       "    <tr style=\"text-align: right;\">\n",
       "      <th></th>\n",
       "      <th>id</th>\n",
       "      <th>v_1</th>\n",
       "      <th>v_11</th>\n",
       "      <th>v_14</th>\n",
       "      <th>v_26</th>\n",
       "      <th>v_27</th>\n",
       "      <th>v_28</th>\n",
       "      <th>v_30</th>\n",
       "      <th>v_9</th>\n",
       "      <th>v_12</th>\n",
       "      <th>...</th>\n",
       "      <th>v_2</th>\n",
       "      <th>v_34</th>\n",
       "      <th>v_35</th>\n",
       "      <th>v_36</th>\n",
       "      <th>v_37</th>\n",
       "      <th>v_38</th>\n",
       "      <th>v_39</th>\n",
       "      <th>v_40</th>\n",
       "      <th>v_7</th>\n",
       "      <th>v_8</th>\n",
       "    </tr>\n",
       "  </thead>\n",
       "  <tbody>\n",
       "    <tr>\n",
       "      <th>0</th>\n",
       "      <td>0</td>\n",
       "      <td>1</td>\n",
       "      <td>1</td>\n",
       "      <td>0</td>\n",
       "      <td>0</td>\n",
       "      <td>0</td>\n",
       "      <td>0</td>\n",
       "      <td>1</td>\n",
       "      <td>0</td>\n",
       "      <td>23</td>\n",
       "      <td>...</td>\n",
       "      <td>10.4</td>\n",
       "      <td>4</td>\n",
       "      <td>96</td>\n",
       "      <td>36</td>\n",
       "      <td>34</td>\n",
       "      <td>23</td>\n",
       "      <td>72</td>\n",
       "      <td>5</td>\n",
       "      <td>10.8</td>\n",
       "      <td>8</td>\n",
       "    </tr>\n",
       "    <tr>\n",
       "      <th>1</th>\n",
       "      <td>1</td>\n",
       "      <td>1</td>\n",
       "      <td>1</td>\n",
       "      <td>0</td>\n",
       "      <td>0</td>\n",
       "      <td>0</td>\n",
       "      <td>0</td>\n",
       "      <td>1</td>\n",
       "      <td>0</td>\n",
       "      <td>19</td>\n",
       "      <td>...</td>\n",
       "      <td>0.5</td>\n",
       "      <td>15</td>\n",
       "      <td>78</td>\n",
       "      <td>12</td>\n",
       "      <td>25</td>\n",
       "      <td>27</td>\n",
       "      <td>67</td>\n",
       "      <td>12</td>\n",
       "      <td>19.4</td>\n",
       "      <td>5</td>\n",
       "    </tr>\n",
       "    <tr>\n",
       "      <th>2</th>\n",
       "      <td>2</td>\n",
       "      <td>1</td>\n",
       "      <td>1</td>\n",
       "      <td>0</td>\n",
       "      <td>0</td>\n",
       "      <td>1</td>\n",
       "      <td>0</td>\n",
       "      <td>1</td>\n",
       "      <td>0</td>\n",
       "      <td>16</td>\n",
       "      <td>...</td>\n",
       "      <td>2.6</td>\n",
       "      <td>4</td>\n",
       "      <td>81</td>\n",
       "      <td>47</td>\n",
       "      <td>30</td>\n",
       "      <td>54</td>\n",
       "      <td>23</td>\n",
       "      <td>4</td>\n",
       "      <td>7.6</td>\n",
       "      <td>1</td>\n",
       "    </tr>\n",
       "    <tr>\n",
       "      <th>3</th>\n",
       "      <td>3</td>\n",
       "      <td>1</td>\n",
       "      <td>1</td>\n",
       "      <td>0</td>\n",
       "      <td>0</td>\n",
       "      <td>1</td>\n",
       "      <td>0</td>\n",
       "      <td>0</td>\n",
       "      <td>1</td>\n",
       "      <td>16</td>\n",
       "      <td>...</td>\n",
       "      <td>0.6</td>\n",
       "      <td>4</td>\n",
       "      <td>100</td>\n",
       "      <td>6</td>\n",
       "      <td>23</td>\n",
       "      <td>12</td>\n",
       "      <td>28</td>\n",
       "      <td>1</td>\n",
       "      <td>11.1</td>\n",
       "      <td>1</td>\n",
       "    </tr>\n",
       "    <tr>\n",
       "      <th>4</th>\n",
       "      <td>4</td>\n",
       "      <td>1</td>\n",
       "      <td>1</td>\n",
       "      <td>0</td>\n",
       "      <td>0</td>\n",
       "      <td>1</td>\n",
       "      <td>0</td>\n",
       "      <td>0</td>\n",
       "      <td>0</td>\n",
       "      <td>16</td>\n",
       "      <td>...</td>\n",
       "      <td>2.6</td>\n",
       "      <td>7</td>\n",
       "      <td>97</td>\n",
       "      <td>25</td>\n",
       "      <td>30</td>\n",
       "      <td>18</td>\n",
       "      <td>52</td>\n",
       "      <td>0</td>\n",
       "      <td>7.6</td>\n",
       "      <td>1</td>\n",
       "    </tr>\n",
       "  </tbody>\n",
       "</table>\n",
       "<p>5 rows × 42 columns</p>\n",
       "</div>"
      ],
      "text/plain": [
       "   id  v_1  v_11  v_14  v_26  v_27  v_28  v_30  v_9  v_12  ...   v_2  v_34  \\\n",
       "0   0    1     1     0     0     0     0     1    0    23  ...  10.4     4   \n",
       "1   1    1     1     0     0     0     0     1    0    19  ...   0.5    15   \n",
       "2   2    1     1     0     0     1     0     1    0    16  ...   2.6     4   \n",
       "3   3    1     1     0     0     1     0     0    1    16  ...   0.6     4   \n",
       "4   4    1     1     0     0     1     0     0    0    16  ...   2.6     7   \n",
       "\n",
       "   v_35  v_36  v_37  v_38  v_39  v_40   v_7  v_8  \n",
       "0    96    36    34    23    72     5  10.8    8  \n",
       "1    78    12    25    27    67    12  19.4    5  \n",
       "2    81    47    30    54    23     4   7.6    1  \n",
       "3   100     6    23    12    28     1  11.1    1  \n",
       "4    97    25    30    18    52     0   7.6    1  \n",
       "\n",
       "[5 rows x 42 columns]"
      ]
     },
     "execution_count": 22,
     "metadata": {},
     "output_type": "execute_result"
    }
   ],
   "source": [
    "X_test=dataset\n",
    "binary_list = ['v_1', 'v_26', 'v_11', 'v_14', 'v_30', 'v_28', 'v_9', 'v_27']\n",
    "nominal_list = ['v_32', 'v_4', 'v_3', 'v_20', 'v_21', 'v_18', 'v_25', 'v_12']\n",
    "ordinal_list = ['v_31', 'v_15', 'v_19', 'v_13', 'v_33', 'v_17', 'v_29', 'v_23', 'v_6', 'v_24', 'v_10', 'v_5', 'v_22', 'v_0']\n",
    "ratio_list = ['v_16', 'v_2', 'v_8', 'v_7', 'v_34', 'v_35', 'v_36', 'v_37', 'v_38', 'v_39', 'v_40']\n",
    "id_list = ['id']\n",
    "final_list = id_list + sorted(binary_list) + sorted(nominal_list) + sorted(ordinal_list) + sorted(ratio_list)\n",
    "X_test = X_test[final_list]\n",
    "X_test.head()"
   ]
  },
  {
   "cell_type": "code",
   "execution_count": 23,
   "id": "02baf71c",
   "metadata": {
    "execution": {
     "iopub.execute_input": "2022-08-31T14:40:38.863806Z",
     "iopub.status.busy": "2022-08-31T14:40:38.863384Z",
     "iopub.status.idle": "2022-08-31T14:40:38.888851Z",
     "shell.execute_reply": "2022-08-31T14:40:38.887481Z"
    },
    "papermill": {
     "duration": 0.040598,
     "end_time": "2022-08-31T14:40:38.891696",
     "exception": false,
     "start_time": "2022-08-31T14:40:38.851098",
     "status": "completed"
    },
    "tags": []
   },
   "outputs": [
    {
     "data": {
      "text/html": [
       "<div>\n",
       "<style scoped>\n",
       "    .dataframe tbody tr th:only-of-type {\n",
       "        vertical-align: middle;\n",
       "    }\n",
       "\n",
       "    .dataframe tbody tr th {\n",
       "        vertical-align: top;\n",
       "    }\n",
       "\n",
       "    .dataframe thead th {\n",
       "        text-align: right;\n",
       "    }\n",
       "</style>\n",
       "<table border=\"1\" class=\"dataframe\">\n",
       "  <thead>\n",
       "    <tr style=\"text-align: right;\">\n",
       "      <th></th>\n",
       "      <th>v_1</th>\n",
       "      <th>v_11</th>\n",
       "      <th>v_14</th>\n",
       "      <th>v_26</th>\n",
       "      <th>v_27</th>\n",
       "      <th>v_28</th>\n",
       "      <th>v_30</th>\n",
       "      <th>v_9</th>\n",
       "      <th>v_12</th>\n",
       "      <th>v_18</th>\n",
       "      <th>...</th>\n",
       "      <th>v_2</th>\n",
       "      <th>v_34</th>\n",
       "      <th>v_35</th>\n",
       "      <th>v_36</th>\n",
       "      <th>v_37</th>\n",
       "      <th>v_38</th>\n",
       "      <th>v_39</th>\n",
       "      <th>v_40</th>\n",
       "      <th>v_7</th>\n",
       "      <th>v_8</th>\n",
       "    </tr>\n",
       "  </thead>\n",
       "  <tbody>\n",
       "    <tr>\n",
       "      <th>0</th>\n",
       "      <td>1</td>\n",
       "      <td>1</td>\n",
       "      <td>0</td>\n",
       "      <td>0</td>\n",
       "      <td>0</td>\n",
       "      <td>0</td>\n",
       "      <td>1</td>\n",
       "      <td>0</td>\n",
       "      <td>23</td>\n",
       "      <td>108</td>\n",
       "      <td>...</td>\n",
       "      <td>10.4</td>\n",
       "      <td>4</td>\n",
       "      <td>96</td>\n",
       "      <td>36</td>\n",
       "      <td>34</td>\n",
       "      <td>23</td>\n",
       "      <td>72</td>\n",
       "      <td>5</td>\n",
       "      <td>10.8</td>\n",
       "      <td>8</td>\n",
       "    </tr>\n",
       "    <tr>\n",
       "      <th>1</th>\n",
       "      <td>1</td>\n",
       "      <td>1</td>\n",
       "      <td>0</td>\n",
       "      <td>0</td>\n",
       "      <td>0</td>\n",
       "      <td>0</td>\n",
       "      <td>1</td>\n",
       "      <td>0</td>\n",
       "      <td>19</td>\n",
       "      <td>261</td>\n",
       "      <td>...</td>\n",
       "      <td>0.5</td>\n",
       "      <td>15</td>\n",
       "      <td>78</td>\n",
       "      <td>12</td>\n",
       "      <td>25</td>\n",
       "      <td>27</td>\n",
       "      <td>67</td>\n",
       "      <td>12</td>\n",
       "      <td>19.4</td>\n",
       "      <td>5</td>\n",
       "    </tr>\n",
       "    <tr>\n",
       "      <th>2</th>\n",
       "      <td>1</td>\n",
       "      <td>1</td>\n",
       "      <td>0</td>\n",
       "      <td>0</td>\n",
       "      <td>1</td>\n",
       "      <td>0</td>\n",
       "      <td>1</td>\n",
       "      <td>0</td>\n",
       "      <td>16</td>\n",
       "      <td>103</td>\n",
       "      <td>...</td>\n",
       "      <td>2.6</td>\n",
       "      <td>4</td>\n",
       "      <td>81</td>\n",
       "      <td>47</td>\n",
       "      <td>30</td>\n",
       "      <td>54</td>\n",
       "      <td>23</td>\n",
       "      <td>4</td>\n",
       "      <td>7.6</td>\n",
       "      <td>1</td>\n",
       "    </tr>\n",
       "    <tr>\n",
       "      <th>3</th>\n",
       "      <td>1</td>\n",
       "      <td>1</td>\n",
       "      <td>0</td>\n",
       "      <td>0</td>\n",
       "      <td>1</td>\n",
       "      <td>0</td>\n",
       "      <td>0</td>\n",
       "      <td>1</td>\n",
       "      <td>16</td>\n",
       "      <td>103</td>\n",
       "      <td>...</td>\n",
       "      <td>0.6</td>\n",
       "      <td>4</td>\n",
       "      <td>100</td>\n",
       "      <td>6</td>\n",
       "      <td>23</td>\n",
       "      <td>12</td>\n",
       "      <td>28</td>\n",
       "      <td>1</td>\n",
       "      <td>11.1</td>\n",
       "      <td>1</td>\n",
       "    </tr>\n",
       "    <tr>\n",
       "      <th>4</th>\n",
       "      <td>1</td>\n",
       "      <td>1</td>\n",
       "      <td>0</td>\n",
       "      <td>0</td>\n",
       "      <td>1</td>\n",
       "      <td>0</td>\n",
       "      <td>0</td>\n",
       "      <td>0</td>\n",
       "      <td>16</td>\n",
       "      <td>12</td>\n",
       "      <td>...</td>\n",
       "      <td>2.6</td>\n",
       "      <td>7</td>\n",
       "      <td>97</td>\n",
       "      <td>25</td>\n",
       "      <td>30</td>\n",
       "      <td>18</td>\n",
       "      <td>52</td>\n",
       "      <td>0</td>\n",
       "      <td>7.6</td>\n",
       "      <td>1</td>\n",
       "    </tr>\n",
       "  </tbody>\n",
       "</table>\n",
       "<p>5 rows × 41 columns</p>\n",
       "</div>"
      ],
      "text/plain": [
       "   v_1  v_11  v_14  v_26  v_27  v_28  v_30  v_9  v_12  v_18  ...   v_2  v_34  \\\n",
       "0    1     1     0     0     0     0     1    0    23   108  ...  10.4     4   \n",
       "1    1     1     0     0     0     0     1    0    19   261  ...   0.5    15   \n",
       "2    1     1     0     0     1     0     1    0    16   103  ...   2.6     4   \n",
       "3    1     1     0     0     1     0     0    1    16   103  ...   0.6     4   \n",
       "4    1     1     0     0     1     0     0    0    16    12  ...   2.6     7   \n",
       "\n",
       "   v_35  v_36  v_37  v_38  v_39  v_40   v_7  v_8  \n",
       "0    96    36    34    23    72     5  10.8    8  \n",
       "1    78    12    25    27    67    12  19.4    5  \n",
       "2    81    47    30    54    23     4   7.6    1  \n",
       "3   100     6    23    12    28     1  11.1    1  \n",
       "4    97    25    30    18    52     0   7.6    1  \n",
       "\n",
       "[5 rows x 41 columns]"
      ]
     },
     "execution_count": 23,
     "metadata": {},
     "output_type": "execute_result"
    }
   ],
   "source": [
    "X_test = X_test.drop(columns='id')\n",
    "X_test.head()"
   ]
  },
  {
   "cell_type": "code",
   "execution_count": 24,
   "id": "a1980da0",
   "metadata": {
    "execution": {
     "iopub.execute_input": "2022-08-31T14:40:38.916593Z",
     "iopub.status.busy": "2022-08-31T14:40:38.916186Z",
     "iopub.status.idle": "2022-08-31T14:40:38.924666Z",
     "shell.execute_reply": "2022-08-31T14:40:38.923393Z"
    },
    "papermill": {
     "duration": 0.024566,
     "end_time": "2022-08-31T14:40:38.927983",
     "exception": false,
     "start_time": "2022-08-31T14:40:38.903417",
     "status": "completed"
    },
    "tags": []
   },
   "outputs": [],
   "source": [
    "test_set = s_fpr.transform(X_test)"
   ]
  },
  {
   "cell_type": "code",
   "execution_count": 25,
   "id": "3895896a",
   "metadata": {
    "execution": {
     "iopub.execute_input": "2022-08-31T14:40:38.954092Z",
     "iopub.status.busy": "2022-08-31T14:40:38.953605Z",
     "iopub.status.idle": "2022-08-31T14:40:39.582841Z",
     "shell.execute_reply": "2022-08-31T14:40:39.581591Z"
    },
    "papermill": {
     "duration": 0.646411,
     "end_time": "2022-08-31T14:40:39.586271",
     "exception": false,
     "start_time": "2022-08-31T14:40:38.939860",
     "status": "completed"
    },
    "tags": []
   },
   "outputs": [
    {
     "data": {
      "text/plain": [
       "(1628,)"
      ]
     },
     "execution_count": 25,
     "metadata": {},
     "output_type": "execute_result"
    }
   ],
   "source": [
    "from sklearn.ensemble import RandomForestClassifier\n",
    "rfc = RandomForestClassifier(max_depth=20, min_samples_split=15, n_estimators=100, random_state=25)\n",
    "rfc.fit(X_train, y)\n",
    "y_pred = rfc.predict(test_set)\n",
    "y_pred.shape"
   ]
  },
  {
   "cell_type": "code",
   "execution_count": 26,
   "id": "2fbd4667",
   "metadata": {
    "execution": {
     "iopub.execute_input": "2022-08-31T14:40:39.611373Z",
     "iopub.status.busy": "2022-08-31T14:40:39.610912Z",
     "iopub.status.idle": "2022-08-31T14:40:39.623151Z",
     "shell.execute_reply": "2022-08-31T14:40:39.621478Z"
    },
    "papermill": {
     "duration": 0.028035,
     "end_time": "2022-08-31T14:40:39.626187",
     "exception": false,
     "start_time": "2022-08-31T14:40:39.598152",
     "status": "completed"
    },
    "tags": []
   },
   "outputs": [],
   "source": [
    "predictions = pd.DataFrame(y_pred)\n",
    "predictions.to_csv('submission.csv', index_label='id', header=['label'])"
   ]
  },
  {
   "cell_type": "code",
   "execution_count": null,
   "id": "a638ec1f",
   "metadata": {
    "papermill": {
     "duration": 0.011226,
     "end_time": "2022-08-31T14:40:39.648649",
     "exception": false,
     "start_time": "2022-08-31T14:40:39.637423",
     "status": "completed"
    },
    "tags": []
   },
   "outputs": [],
   "source": []
  }
 ],
 "metadata": {
  "kernelspec": {
   "display_name": "Python 3",
   "language": "python",
   "name": "python3"
  },
  "language_info": {
   "codemirror_mode": {
    "name": "ipython",
    "version": 3
   },
   "file_extension": ".py",
   "mimetype": "text/x-python",
   "name": "python",
   "nbconvert_exporter": "python",
   "pygments_lexer": "ipython3",
   "version": "3.7.12"
  },
  "papermill": {
   "default_parameters": {},
   "duration": 28.096086,
   "end_time": "2022-08-31T14:40:40.483828",
   "environment_variables": {},
   "exception": null,
   "input_path": "__notebook__.ipynb",
   "output_path": "__notebook__.ipynb",
   "parameters": {},
   "start_time": "2022-08-31T14:40:12.387742",
   "version": "2.3.4"
  }
 },
 "nbformat": 4,
 "nbformat_minor": 5
}
